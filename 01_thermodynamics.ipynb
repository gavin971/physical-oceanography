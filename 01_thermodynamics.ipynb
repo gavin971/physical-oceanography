{
 "cells": [
  {
   "cell_type": "markdown",
   "metadata": {},
   "source": [
    "# Homework 1 #\n",
    "\n",
    "In this problem you will explore some consequences of the ocean's nonlinear equation of state. Then you will make some calculations regarding air-sea fluxes. Each question is worth 20%. There is an _optional_ bonus question at the end which is worth 10 points towards any future homework.\n",
    "\n",
    "First import numpy, matplotlib, and the Gibbs sea water package."
   ]
  },
  {
   "cell_type": "code",
   "execution_count": null,
   "metadata": {
    "collapsed": true
   },
   "outputs": [],
   "source": []
  },
  {
   "cell_type": "markdown",
   "metadata": {},
   "source": [
    "## 1) Cabbeling ##\n",
    "\n",
    "You make two measurements of seawater with a CTD.\n",
    "\n",
    "| |T (in-situ temperature, $^\\circ$C) |S$_p$ (Practical Salinity, PSU)|\n",
    "|--|--------|-----------------------|\n",
    "|Measurement 1| 0.0 | 31.0  |\n",
    "|Measurement 2 | 16.45 | 34.0 |\n",
    "\n",
    "The measurements are taken at the surface ($p=0$ dbar) in the North Atlantic Ocean, coordinates 45N latitude, 30E longitude.\n",
    "\n",
    "First convert the measurments to absolute salinity and conservative temperature."
   ]
  },
  {
   "cell_type": "code",
   "execution_count": null,
   "metadata": {
    "collapsed": false
   },
   "outputs": [],
   "source": []
  },
  {
   "cell_type": "markdown",
   "metadata": {},
   "source": [
    "Now calculate the density of each water parcel? Which water mass is denser? What is their average density?"
   ]
  },
  {
   "cell_type": "code",
   "execution_count": null,
   "metadata": {
    "collapsed": false
   },
   "outputs": [],
   "source": []
  },
  {
   "cell_type": "markdown",
   "metadata": {},
   "source": [
    "Now allow the two water masses to mix. When they mix, they homogenize their conservative temperature and absolute salinity. What is the density of the new water mass?"
   ]
  },
  {
   "cell_type": "code",
   "execution_count": null,
   "metadata": {
    "collapsed": false
   },
   "outputs": [],
   "source": []
  },
  {
   "cell_type": "markdown",
   "metadata": {},
   "source": [
    "Discuss your result. How does the density of the mixed seawater compare to that of the two source water masses?"
   ]
  },
  {
   "cell_type": "markdown",
   "metadata": {},
   "source": [
    "## 2) Stratification and Thermobaricity ##\n",
    "\n",
    "You are on cruise in the Anarctic (65S latitude, 20E longitude). You make two measurements:\n",
    "\n",
    "| |T (in-situ temperature, $^\\circ$C) |S$_p$ (Practical Salinity, PSU)| Pressure (dbar) | \n",
    "|--|--------|-----------------------|\n",
    "|Measurement 1| -1.8 | 33.0  | 0 | \n",
    "|Measurement 2 | 0.0 | 33.2 | 20 |\n",
    "\n",
    "Assess the stability of the water column by comparing the densities of the two water masses referenced to the same pressue (i.e. use potential density). Is the water column stably stratified in this region?"
   ]
  },
  {
   "cell_type": "code",
   "execution_count": null,
   "metadata": {
    "collapsed": false
   },
   "outputs": [],
   "source": []
  },
  {
   "cell_type": "markdown",
   "metadata": {},
   "source": [
    "Now imagine that ocean circulation transports the same two water masses to pressures of 4990 dbar and 5010 dbar respectively. (One is still approx 20 m deeper than the other.) Compare the two potential densities using the mid-point reference pressure of 5000 dbar. How does the stratification differ?"
   ]
  },
  {
   "cell_type": "code",
   "execution_count": null,
   "metadata": {
    "collapsed": false
   },
   "outputs": [],
   "source": []
  },
  {
   "cell_type": "markdown",
   "metadata": {
    "collapsed": true
   },
   "source": [
    "## 3) ARGO Profile Analysis ##\n",
    "\n",
    "In this problem, you will learn how to access, plot, and make calculations with ARGO data.\n",
    "\n",
    "In order to get the data, you have to install two special anaconda packages. To do this, run the following commands from your command line (not from the python interpreter):\n",
    "\n",
    "    conda install netcdf4\n",
    "    conda install xray\n",
    "\n",
    "(If you want to run them inside your IPython notebook, just preceed them with an \"!\" symbol.)\n",
    "\n",
    "The code below will use [xray](http://xray.readthedocs.org) to connect to an online database of ARGO data and access a profile from July."
   ]
  },
  {
   "cell_type": "code",
   "execution_count": 9,
   "metadata": {
    "collapsed": true
   },
   "outputs": [],
   "source": [
    "import xray\n",
    "argo = xray.open_dataset('http://data.nodc.noaa.gov/opendap/argo/data/pacific/2015/08/nodc_R5903323_203.nc')"
   ]
  },
  {
   "cell_type": "markdown",
   "metadata": {},
   "source": [
    "Explore the ARGO profile by simply typing ``print argo`` on the next line. xray will give you a summary of the contents of the dataset. (Review the [xray documentation](http://xray.readthedocs.org) to learn more about how to interact with the data.)"
   ]
  },
  {
   "cell_type": "code",
   "execution_count": null,
   "metadata": {
    "collapsed": false,
    "scrolled": true
   },
   "outputs": [],
   "source": [
    "print argo"
   ]
  },
  {
   "cell_type": "markdown",
   "metadata": {},
   "source": [
    "Answer the following questions about the data based on the output above:\n",
    "\n",
    "1. What are the dimensions of the variables ``pres``, ``temp``, and ``psal``?\n",
    "1. What are the lat/lon coordinates of the profile? Where is this in the ocean?\n",
    "1. What type of python object is represented by the variable ``argo``?\n",
    "\n",
    "Then run the following commands. (This is basically a hint from me on how to extract the data from the ``argo`` object.)"
   ]
  },
  {
   "cell_type": "code",
   "execution_count": 38,
   "metadata": {
    "collapsed": false
   },
   "outputs": [],
   "source": [
    "# pressure\n",
    "p = argo.pres[0]\n",
    "# practical salinity\n",
    "psal = argo.psal[0]\n",
    "# in-situ temperature\n",
    "t = argo.temp[0]"
   ]
  },
  {
   "cell_type": "markdown",
   "metadata": {},
   "source": [
    "Now use the Gibbs sea water (``gsw``) module to calculate the following\n",
    "\n",
    "1. $S_A$, absolute salinity (hint: you need the latitude and longitude--why?)\n",
    "2. $\\Theta$, conservative temperature\n",
    "3. Water column height $z$\n",
    "\n",
    "Then make plots of $S_A$ and $\\Theta$ vs $z$. Include axis labels and titles."
   ]
  },
  {
   "cell_type": "code",
   "execution_count": null,
   "metadata": {
    "collapsed": false
   },
   "outputs": [],
   "source": []
  },
  {
   "cell_type": "markdown",
   "metadata": {},
   "source": [
    "Finally, use ``gsw`` to calculate $\\sigma_0$ (surface potential density) and $N^2$ (buoyancy frequency). Plot both vs $z$. (You will need to read the documentation on the function ``gsw.Nsquared`` carefully in order to make this work.)"
   ]
  },
  {
   "cell_type": "code",
   "execution_count": null,
   "metadata": {
    "collapsed": false
   },
   "outputs": [],
   "source": []
  },
  {
   "cell_type": "markdown",
   "metadata": {},
   "source": [
    "Based on the figures you just made, discuss this profile a bit. Is the stratification dominated by salinity or temperature? Is it typical of the global ocean?"
   ]
  },
  {
   "cell_type": "markdown",
   "metadata": {},
   "source": [
    "## 4) Sensible heat flux\n",
    "\n",
    "_(NOTE: the following problems mostly do not involve ``gsw``. You can still use python as a calculator if you wish.)_\n",
    "\n",
    "Let's assume that initially the ocean and atmosphere are in a balanced state, with no turbulent heat exchange and $T = T_{10} = 20^\\circ$C. Suddenly a cold front comes through and the air temperature drops suddenly to 18$^\\circ$C. Assume there is no ocean current and that the atmospheric winds are blowing at 10 m/s. You can also assume that $C_H = 10^{-3}$.\n",
    "\n",
    "1. Calculate the sensible heat flux immediately after this drop in air temperature.\n",
    "1. Assume the mixed layer is 50 m deep. Calculate the instantaneous rate of mixed layer cooling immediately after the drop in air temperature. Express your answer in degrees per day.\n",
    "1. This cooling rate cannot be maintained. As the mixed layer cools and the ocean temperature approaches the air temperature, the sensible heat flux will become weaker. Derive an equation describing the time evolution of the air-sea temperature difference $T' = T - T_{10}$, assuming $T_{10}$ remains fixed. ($T'$ is positive when the water is warmer than the air.) You should find an equation of the form\n",
    "$$ \\frac{dT'}{dt} = - \\lambda T' $$\n",
    "The constant $\\lambda$ is an inverse timescale. Express $\\lambda$ first in terms of the other parameters and then find its value. Give your answer in the units days$^{-1}$. In your own words, what does $\\lambda$ represent? How does it depend on the mixed layer depth? The wind speed?\n",
    "1. This equation is a simple linear, first-order ordinary differential equation. Write the solution for $T'(t)$. How long does it take the initial air-sea difference of 2$^\\circ$C to be reduced by half? How does this compare with the initial cooling rate you calculated in part (b)?"
   ]
  },
  {
   "cell_type": "code",
   "execution_count": null,
   "metadata": {
    "collapsed": true
   },
   "outputs": [],
   "source": []
  },
  {
   "cell_type": "markdown",
   "metadata": {},
   "source": [
    "## 5) Evaporation and Latent Heat Flux\n",
    "\n",
    "We will now calculate the evaporation and latent heat flux due to the same event. Cold air can hold much less water vapor than warm air. The Clausius-Clapeyron equation describes the maximum amount of water vapor that air can hold. The humidity of air is often expressed as _relative humidity_, i.e. $q$ as a percentage of $q_{sat}(T)$.\n",
    "\n",
    "1. What is $q_{sat}$, the specific humidity of the right at the sea surface? (The water temperature is 20$^\\circ$C, and the air right at the surface is always 100% saturated.)\n",
    "1. Assume that the air in the cold front has 50% relative humidity at 10 m above the sea surface. What is $q_{10}$? (Recall that $T_{10} = 18^\\circ$C.)\n",
    "1. Calculate the evaporation rate immediately after the drop in air temperature. What are the units of $E$? Rainfall is often measured in units of mm per day. Can you convert your answer to these units?\n",
    "1. Calculate the instantaneous rate of change of the mixed layer salinity due to evaporation immediately after the drop in air temperature using the virtual salt flux approximation. Assume that the average salinity of the mixed layer $S_{A0} = 35$ g/kg.\n",
    "1. Calculate the latent heat flux corresponding with this evaporation rate.\n",
    "1. Sensible heat fluxes can be both positive and negative over the ocean, depending on whether the air temperature is warmer or cooler than the water. As a result, large cancellations occur, and sensible heat fluxes do not contribute very much to the global heat budget. In contrast, latent heat loss is only negative, and strongly cools the ocean as a whole. Why is latent heat flux always negative?\n"
   ]
  },
  {
   "cell_type": "code",
   "execution_count": null,
   "metadata": {
    "collapsed": true
   },
   "outputs": [],
   "source": []
  },
  {
   "cell_type": "markdown",
   "metadata": {},
   "source": [
    "## 6) OPTIONAL Bonus Question: Total Density Flux\n",
    "\n",
    "All of these processes (sensible heat loss, evaporation, and latent heat loss) are making the mixed layer denser. Let's compare their effect\n",
    "\n",
    "1. Combine the equations for the rate of change of $T$ and $S_A$ together to form an expression for the rate of change of density $\\rho$. (You may assume for simplicity that $T=\\Theta$.) You will need to use the equation of state. (Since the pressure changes over the mixed layer are small, you should neglect the dependence of density on pressure.)\n",
    "1. Quantify the densification rate of the mixed layer due to each process immediately following the change in air temperature. Use ``gsw`` to calculate the appropriate thermal expansion and haline contraction coefficients. Express your answer in kg m$^{-3}$ per day. Which is the dominant process?\n",
    "1. The mixed layer is the lightest (least dense) water in the water column. It overlies the stratified pycnocline. What happens when air-sea fluxes cause the mixed layer to become denser than the water below it?\n"
   ]
  },
  {
   "cell_type": "code",
   "execution_count": null,
   "metadata": {
    "collapsed": true
   },
   "outputs": [],
   "source": []
  }
 ],
 "metadata": {
  "kernelspec": {
   "display_name": "Python 2",
   "language": "python",
   "name": "python2"
  },
  "language_info": {
   "codemirror_mode": {
    "name": "ipython",
    "version": 2
   },
   "file_extension": ".py",
   "mimetype": "text/x-python",
   "name": "python",
   "nbconvert_exporter": "python",
   "pygments_lexer": "ipython2",
   "version": "2.7.10"
  }
 },
 "nbformat": 4,
 "nbformat_minor": 0
}
